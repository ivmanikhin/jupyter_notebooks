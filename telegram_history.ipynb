{
 "cells": [
  {
   "cell_type": "code",
   "execution_count": 63,
   "id": "3abafd6f",
   "metadata": {},
   "outputs": [],
   "source": [
    "import json\n",
    "import re\n",
    "from openpyxl import Workbook\n",
    "\n",
    "with open(\"March.json\", \"r\", encoding='utf-8') as file:\n",
    "    messages = json.load(file)\n",
    "messages = messages[\"messages\"]\n",
    "\n",
    "# print(messages)\n",
    "\n",
    "pretty_messages = list()\n",
    "bad_messages = list()\n",
    "for message in messages:\n",
    "    try:\n",
    "        pretty_message = {\"date_time\": message[\"date\"].replace(\"T\", \" \"), \"user\": message['from'], \"text\": message[\"text\"], \"price\": re.findall(r\"([0-9. ]+) *[рР]\", message[\"text\"])[0].replace(\". \", \"\").replace(\" \", \"\")}\n",
    "#         pretty_message[\"text\"] = pretty_message[\"text\"].replace(f\"{pretty_message['price']} р.\", \"\")\n",
    "        pretty_messages.append(pretty_message)\n",
    "    except:\n",
    "        bad_messages.append(message)\n",
    "        pass\n",
    "\n",
    "headers = list(pretty_messages[0].keys())\n",
    "headers\n",
    "\n",
    "def write_to_xls(filename, data):\n",
    "    book = Workbook(write_only=True)\n",
    "    sheet = book.create_sheet()\n",
    "    headers = list(data[0].keys())\n",
    "    sheet.append(headers)\n",
    "    for element in data:\n",
    "        sheet.append(list(element.values()))\n",
    "    book.save(filename)\n",
    "    \n",
    "write_to_xls(\"test.xlsx\", pretty_messages)"
   ]
  }
 ],
 "metadata": {
  "kernelspec": {
   "display_name": "Python 3 (ipykernel)",
   "language": "python",
   "name": "python3"
  },
  "language_info": {
   "codemirror_mode": {
    "name": "ipython",
    "version": 3
   },
   "file_extension": ".py",
   "mimetype": "text/x-python",
   "name": "python",
   "nbconvert_exporter": "python",
   "pygments_lexer": "ipython3",
   "version": "3.9.7"
  }
 },
 "nbformat": 4,
 "nbformat_minor": 5
}
